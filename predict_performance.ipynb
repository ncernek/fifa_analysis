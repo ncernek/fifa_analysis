{
 "cells": [
  {
   "cell_type": "markdown",
   "metadata": {},
   "source": [
    "---\n",
    "# 3 - Predicting performance\n",
    "We know that Overall is the overall skill of a player.\n",
    "The question is whether we can predict the Overall skill by looking at the other skills.\n",
    "\n",
    "assumptions:\n",
    "* the client prefers to measure a few skills rather than the entire suite.\n",
    "* while all of these skill metrics are subjective, it is more objective to measure a player on specific skills,rather than to come up with an overall skill rating just from observation.\n",
    "\n",
    "ideal deliverables:\n",
    "* the client would like to know which of his players he should get rid of.\n",
    "* the client would like to know which skills he should focus his players on to optimize overall skill.\n",
    "* the client would like to know who are the most undervalued players, so he can recruit them."
   ]
  },
  {
   "cell_type": "code",
   "execution_count": null,
   "metadata": {},
   "outputs": [],
   "source": [
    "#remove the pluses and minuses from these numbers\n",
    "import re\n",
    "\n",
    "skill_columns = ['Acceleration',\n",
    "       'Aggression', 'Agility', 'Balance', 'Ball control', 'Composure',\n",
    "       'Crossing', 'Curve', 'Dribbling', 'Finishing', 'Free kick accuracy',\n",
    "       'GK diving', 'GK handling', 'GK kicking', 'GK positioning',\n",
    "       'GK reflexes', 'Heading accuracy', 'Interceptions', 'Jumping',\n",
    "       'Long passing', 'Long shots', 'Marking', 'Penalties', 'Positioning',\n",
    "       'Reactions', 'Short passing', 'Shot power', 'Sliding tackle',\n",
    "       'Sprint speed', 'Stamina', 'Standing tackle', 'Strength', 'Vision',\n",
    "       'Volleys']\n",
    "\n",
    "def stripValue(value):\n",
    "    if isinstance(value, str):\n",
    "        return int(re.findall('\\d+',value)[0])\n",
    "    else:\n",
    "        return None\n",
    "\n",
    "#is this the right way to do this ?why am I getting a warning?\n",
    "for column in skill_columns:\n",
    "    player_stats[column] = player_stats[column].apply(stripValue)"
   ]
  },
  {
   "cell_type": "code",
   "execution_count": null,
   "metadata": {},
   "outputs": [],
   "source": [
    "player_stats.head()"
   ]
  },
  {
   "cell_type": "code",
   "execution_count": null,
   "metadata": {
    "scrolled": true
   },
   "outputs": [],
   "source": [
    "player_stats.dropna(inplace=True)"
   ]
  },
  {
   "cell_type": "code",
   "execution_count": null,
   "metadata": {
    "scrolled": false
   },
   "outputs": [],
   "source": [
    "for column in skill_columns:\n",
    "    sns.distplot(player_stats[column],bins=50)"
   ]
  },
  {
   "cell_type": "code",
   "execution_count": null,
   "metadata": {},
   "outputs": [],
   "source": [
    "#I want to analyze the connections between these different features, \n",
    "#however this particular notebook doesn't have the tools to do so .\n",
    "#it is tempting to go ahead and find those tools,but I should stay on track \n",
    "\n",
    "#I want to know the correlation between each of these skills and overall skill\n",
    "#I want to do a principal component analysis to reduce these skills to the single most important ones\n",
    "#I want to see if a particular skill is more important than another\n",
    "#I want to discover what is the lowest mix of skills that optimizes for the value of the player\n",
    "#I want to see which minimal features do a good job of predicting overall skill\n",
    "\n"
   ]
  },
  {
   "cell_type": "markdown",
   "metadata": {},
   "source": [
    "## Simple Linear Regression: 2 independent variables\n",
    "\n",
    "the rest of this notebook is linear regression\n",
    "I need to pick the top 3 skills that are most highly correlated with overall skill and value\n",
    "then I need to do a linear regression and assess how strong that is right paren"
   ]
  },
  {
   "cell_type": "code",
   "execution_count": null,
   "metadata": {},
   "outputs": [],
   "source": [
    "#correlation\n",
    "correlation_matrix = player_stats.corr()\n",
    "fig, ax = plt.subplots(figsize=(20,20)) \n",
    "sns.heatmap(correlation_matrix,annot=False,cmap='coolwarm', linewidths=.5, ax=ax)\n",
    "#\n",
    "#the strongest skill correlation 2 Overall is Reactions\n",
    "#I don't think this is a skill.\n",
    "#first I'll try to make a linear regression between the top 3 skills and overall\n",
    "#then I will try to take all skills and see if that gives me a better model"
   ]
  },
  {
   "cell_type": "code",
   "execution_count": null,
   "metadata": {},
   "outputs": [],
   "source": [
    "#skills with the highest correlation\n",
    "correlation_overall = correlation_matrix['Overall'].sort_values(ascending=False)\n",
    "\n",
    "correlation_overall.head(15)\n",
    "#I'm only going to use reactions and composure in this first model.\n",
    "#the other values are not skills,and of the other skills are too lowly correlated"
   ]
  },
  {
   "cell_type": "code",
   "execution_count": null,
   "metadata": {},
   "outputs": [],
   "source": [
    "#define the training and testing data\n",
    "from sklearn.model_selection import train_test_split\n",
    "from sklearn.linear_model import LinearRegression\n",
    "\n",
    "y = player_stats['Overall']\n",
    "X = player_stats[['Reactions','Composure']]\n",
    "\n",
    "X_train, X_test, y_train, y_test = train_test_split(X, y, test_size=0.3, random_state=101)\n",
    "\n",
    "lm = LinearRegression()\n",
    "lm.fit(X_train,y_train)\n",
    "\n",
    "coeffecients = pd.DataFrame(lm.coef_,X.columns)\n",
    "coeffecients.columns = ['Coefficient']\n",
    "coeffecients"
   ]
  },
  {
   "cell_type": "code",
   "execution_count": null,
   "metadata": {},
   "outputs": [],
   "source": [
    "#compare predicted to actual values\n",
    "predictions = lm.predict(X_test)\n",
    "\n",
    "plt.scatter(y_test,predictions)\n",
    "plt.xlabel('Y Test')\n",
    "plt.ylabel('Predicted Y')"
   ]
  },
  {
   "cell_type": "markdown",
   "metadata": {},
   "source": [
    "## Evaluating the Model\n",
    "\n",
    "evaluate  model performance by calculating the residual sum of squares and the explained variance score (R^2)."
   ]
  },
  {
   "cell_type": "code",
   "execution_count": null,
   "metadata": {},
   "outputs": [],
   "source": [
    "from sklearn import metrics\n",
    "\n",
    "print('MAE:', metrics.mean_absolute_error(y_test, predictions))\n",
    "print('MSE:', metrics.mean_squared_error(y_test, predictions))\n",
    "print('RMSE:', np.sqrt(metrics.mean_squared_error(y_test, predictions)))"
   ]
  },
  {
   "cell_type": "code",
   "execution_count": null,
   "metadata": {
    "scrolled": false
   },
   "outputs": [],
   "source": [
    "#make sure residuals are normally distributed and not too big\n",
    "sns.distplot((y_test-predictions),bins=50);"
   ]
  },
  {
   "cell_type": "markdown",
   "metadata": {},
   "source": [
    "# first conclusion\n",
    "the only highly correlated skill to overall is reactions.I created a linear regression model\n",
    "that can predict overall fairly well.I'm not very excited about this though.\n",
    "there is more to the story.I wouldn't tell management to look for players with good reactions\n",
    "in order to build a good team.\n",
    "\n",
    "I am going to build another model,and I will leave out reactions.let's see how good it can be.\n",
    "it will only take into account real,more measurable skills."
   ]
  },
  {
   "cell_type": "markdown",
   "metadata": {},
   "source": [
    "## Simple Linear Regression: low correlation features\n",
    "in this model, I am only going to use features with low correlation to see how good of a predictor I can create."
   ]
  },
  {
   "cell_type": "code",
   "execution_count": null,
   "metadata": {},
   "outputs": [],
   "source": [
    "#skills with the highest correlation\n",
    "correlation_overall = correlation_matrix['Overall'].sort_values(ascending=False)\n",
    "\n",
    "#exclude features with the highest correlations,those above 0.53\n",
    "low_correlated_skills  = correlation_overall[correlation_overall < 0.53].index.values\n",
    "low_correlated_skills"
   ]
  },
  {
   "cell_type": "code",
   "execution_count": null,
   "metadata": {},
   "outputs": [],
   "source": [
    "#define the training and testing data\n",
    "from sklearn.model_selection import train_test_split\n",
    "from sklearn.linear_model import LinearRegression\n",
    "\n",
    "y = player_stats['Overall']\n",
    "X = player_stats[low_correlated_skills]\n",
    "\n",
    "X_train, X_test, y_train, y_test = train_test_split(X, y, test_size=0.3, random_state=101)\n",
    "\n",
    "lm = LinearRegression()\n",
    "lm.fit(X_train,y_train)\n",
    "\n",
    "coeffecients = pd.DataFrame(lm.coef_,X.columns)\n",
    "coeffecients.columns = ['Coefficient']\n",
    "coeffecients"
   ]
  },
  {
   "cell_type": "code",
   "execution_count": null,
   "metadata": {},
   "outputs": [],
   "source": [
    "#compare predicted to actual values\n",
    "predictions = lm.predict(X_test)\n",
    "\n",
    "plt.scatter(y_test,predictions)\n",
    "plt.xlabel('Y Test')\n",
    "plt.ylabel('Predicted Y')"
   ]
  },
  {
   "cell_type": "markdown",
   "metadata": {},
   "source": [
    "## Evaluating the Model\n",
    "\n",
    "evaluate  model performance by calculating the residual sum of squares and the explained variance score (R^2)."
   ]
  },
  {
   "cell_type": "code",
   "execution_count": null,
   "metadata": {},
   "outputs": [],
   "source": [
    "from sklearn import metrics\n",
    "\n",
    "print('MAE:', metrics.mean_absolute_error(y_test, predictions))\n",
    "print('MSE:', metrics.mean_squared_error(y_test, predictions))\n",
    "print('RMSE:', np.sqrt(metrics.mean_squared_error(y_test, predictions)))"
   ]
  },
  {
   "cell_type": "code",
   "execution_count": null,
   "metadata": {
    "scrolled": false
   },
   "outputs": [],
   "source": [
    "#make sure residuals are normally distributed and not too big\n",
    "sns.distplot((y_test-predictions),bins=50);"
   ]
  },
  {
   "cell_type": "markdown",
   "metadata": {},
   "source": [
    "# second conclusion\n",
    "in this second model I excluded the most highly correlated features,those being reactions and composure.\n",
    "I wanted to see if I could create a predictive model using very lowly correlated features.my assumption was that the higher the correlation,the more likely that feature predicts the y value.perhaps this is true,and there is another truth in here.the other truth is that a large group of lowly correlated features can also give a good predictive model.\n",
    "\n",
    "now my goal is to create the most predictive model.I will do this by including the highly correlated features as well as the lowly correlated features into my model."
   ]
  },
  {
   "cell_type": "markdown",
   "metadata": {},
   "source": [
    "## Simple Linear Regression: all features\n"
   ]
  },
  {
   "cell_type": "code",
   "execution_count": null,
   "metadata": {},
   "outputs": [],
   "source": [
    "#define the training and testing data\n",
    "from sklearn.model_selection import train_test_split\n",
    "from sklearn.linear_model import LinearRegression\n",
    "\n",
    "y = player_stats['Overall']\n",
    "X = player_stats[skill_columns]\n",
    "\n",
    "X_train, X_test, y_train, y_test = train_test_split(X, y, test_size=0.3, random_state=101)\n",
    "\n",
    "lm = LinearRegression()\n",
    "lm.fit(X_train,y_train)\n",
    "\n",
    "coeffecients = pd.DataFrame(lm.coef_,X.columns)\n",
    "coeffecients.columns = ['Coefficient']\n",
    "coeffecients.sort_values(by='Coefficient',ascending=False)"
   ]
  },
  {
   "cell_type": "markdown",
   "metadata": {},
   "source": [
    "even though composure is more highly correlated then ball control, here ball control has a higher coefficient then  composure. I must have a wrong assumption about how this math works. something I can try to do is to see the correlation between coefficients and correlation values."
   ]
  },
  {
   "cell_type": "code",
   "execution_count": null,
   "metadata": {},
   "outputs": [],
   "source": [
    "#compare predicted to actual values\n",
    "predictions = lm.predict(X_test)\n",
    "\n",
    "plt.scatter(y_test,predictions)\n",
    "plt.xlabel('Y Test')\n",
    "plt.ylabel('Predicted Y')"
   ]
  },
  {
   "cell_type": "markdown",
   "metadata": {},
   "source": [
    "## Evaluating the Model\n",
    "\n",
    "evaluate  model performance by calculating the residual sum of squares and the explained variance score (R^2)."
   ]
  },
  {
   "cell_type": "code",
   "execution_count": null,
   "metadata": {},
   "outputs": [],
   "source": [
    "from sklearn import metrics\n",
    "\n",
    "print('MAE:', metrics.mean_absolute_error(y_test, predictions))\n",
    "print('MSE:', metrics.mean_squared_error(y_test, predictions))\n",
    "print('RMSE:', np.sqrt(metrics.mean_squared_error(y_test, predictions)))"
   ]
  },
  {
   "cell_type": "code",
   "execution_count": null,
   "metadata": {
    "scrolled": false
   },
   "outputs": [],
   "source": [
    "#make sure residuals are normally distributed and not too big\n",
    "sns.distplot((y_test-predictions),bins=50);"
   ]
  },
  {
   "cell_type": "markdown",
   "metadata": {},
   "source": [
    "## third conclusion\n",
    "it appears that the best model is when you use the most features.\n",
    "\n",
    "* highly correlated features RMSE: 3.31230582722\n",
    "* only low correlated future RMSE: 3.25479269275\n",
    "* all features RMSE: 2.62305737694"
   ]
  },
  {
   "cell_type": "markdown",
   "metadata": {},
   "source": [
    "## critique\n",
    "\n",
    "1. your initial goal was to study a player's performance\n",
    "    * you didn't formulate clear questions: \n",
    "        * which metric is the best representation for performance? _overall_\n",
    "        * which smaller metric is the best predictor for performance?\n",
    "        * which set of 5 smaller metrics are the best predictors for performance?\n",
    "    * you didn't make recommendations to your client:\n",
    "        * should players focus on their best skills or the worst skills to get better performance?\n",
    "        * which players have the best wage to value ratio?\n",
    "        * which players have the best wage to overall ratio?\n",
    "        * who are the weakest players on any given team?\n",
    "        \n",
    "2. your secondary goal was to study a team's performance\n",
    "    * you don't have data on teams winning\n",
    "    * you didn't study the connection between individual players and team skill\n",
    "        * what is the best player mix for a good team?\n",
    "        * what is the best way to predict a team skill based on individual player features?\n",
    "\n",
    "3. your third goal was to make financial recommendations \n",
    "    * which teams have the best wage to value ratios?\n",
    "    * which teams have the best wage to overall ratios?\n",
    "    \n",
    "---\n",
    "\n",
    "1. each section needs an explicit goal, with steps laid out\n",
    "2. each section needs an explicit conclusion, that cites the values discovered\n",
    "3. whenever you learn something from a calculation, you should write that down\n",
    "4. make your variable names more clear"
   ]
  },
  {
   "cell_type": "code",
   "execution_count": null,
   "metadata": {},
   "outputs": [],
   "source": []
  }
 ],
 "metadata": {
  "kernelspec": {
   "display_name": "Python 3",
   "language": "python",
   "name": "python3"
  },
  "language_info": {
   "codemirror_mode": {
    "name": "ipython",
    "version": 3
   },
   "file_extension": ".py",
   "mimetype": "text/x-python",
   "name": "python",
   "nbconvert_exporter": "python",
   "pygments_lexer": "ipython3",
   "version": "3.6.2"
  },
  "toc": {
   "nav_menu": {},
   "number_sections": false,
   "sideBar": true,
   "skip_h1_title": false,
   "toc_cell": false,
   "toc_position": {},
   "toc_section_display": "block",
   "toc_window_display": true
  }
 },
 "nbformat": 4,
 "nbformat_minor": 1
}
