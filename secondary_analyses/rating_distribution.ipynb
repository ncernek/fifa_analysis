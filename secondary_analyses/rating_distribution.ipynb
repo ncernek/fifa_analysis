{
 "cells": [
  {
   "cell_type": "markdown",
   "metadata": {},
   "source": [
    "# fifa analysis: distributions of ratings \n",
    "---\n",
    "\n",
    "# summary\n",
    "* my goal is to accurately describe the distribution of ratings across all positions.\n",
    "* I use the standardization formula for normal distributions, and arrive at a bimodal distribution.\n",
    "\n",
    "\n",
    "# context\n",
    "This is an exercise I have created to practice analytics. I am using a dataset from kaggle.com that represents individual fifa players. My goal is to provide insights for a team manager from the data. I assume that the team manager wants to optimize for the most skilled team that brings the most money.\n",
    "   \n",
    "#### data\n",
    "* Player personal attributes (Nationality, Club, Photo, Age, Value etc.)\n",
    "* Player performance attributes (Overall, Potential, Aggression, Agility etc.)\n",
    "* Player preferred position and ratings at all positions.\n",
    "\n",
    "#### key features\n",
    "* Overall: overall rating of a player, on a scale from 1 to 100.\n",
    "* Potential: the highest overall rating a player could progress to.\n",
    "* Value: current market value of a player, annually\n",
    "* Wage: the weekly wage of a player\n",
    "---\n"
   ]
  },
  {
   "cell_type": "markdown",
   "metadata": {},
   "source": [
    "### problem \n",
    "What does the distribution of a player's ratings over different positions look like?\n",
    "\n",
    "### hypothesis\n",
    "the distribution is random for any given player. in aggregate,the distribution is normal.\n",
    "\n",
    "### assumptions\n",
    "* we do not care about distinguishing positions. we only care to know the distribution of ratings.\n",
    "* combining the distributions of individual players into an aggregate distribution as explanatory power.\n",
    "\n",
    "### procedure\n",
    "* remove all null values\n",
    "* first attempt: normalize the data by setting the minimum as the floor, and set the max as the ceiling\n",
    "* second attempt: normalize the data by subtracting the mean to from every value,and then divide by standard deviation"
   ]
  },
  {
   "cell_type": "code",
   "execution_count": 62,
   "metadata": {},
   "outputs": [],
   "source": [
    "import pandas as pd\n",
    "import numpy as np\n",
    "import matplotlib.pyplot as plt\n",
    "import seaborn as sns\n",
    "%matplotlib inline"
   ]
  },
  {
   "cell_type": "code",
   "execution_count": 63,
   "metadata": {},
   "outputs": [
    {
     "name": "stderr",
     "output_type": "stream",
     "text": [
      "/Users/nico/code/pydata-env/lib/python3.6/site-packages/IPython/core/interactiveshell.py:2728: DtypeWarning: Columns (23,35) have mixed types. Specify dtype option on import or set low_memory=False.\n",
      "  interactivity=interactivity, compiler=compiler, result=result)\n"
     ]
    },
    {
     "data": {
      "text/html": [
       "<div>\n",
       "<style>\n",
       "    .dataframe thead tr:only-child th {\n",
       "        text-align: right;\n",
       "    }\n",
       "\n",
       "    .dataframe thead th {\n",
       "        text-align: left;\n",
       "    }\n",
       "\n",
       "    .dataframe tbody tr th {\n",
       "        vertical-align: top;\n",
       "    }\n",
       "</style>\n",
       "<table border=\"1\" class=\"dataframe\">\n",
       "  <thead>\n",
       "    <tr style=\"text-align: right;\">\n",
       "      <th></th>\n",
       "      <th>Name</th>\n",
       "      <th>Age</th>\n",
       "      <th>Photo</th>\n",
       "      <th>Nationality</th>\n",
       "      <th>Flag</th>\n",
       "      <th>Overall</th>\n",
       "      <th>Potential</th>\n",
       "      <th>Club</th>\n",
       "      <th>Club Logo</th>\n",
       "      <th>Value</th>\n",
       "      <th>...</th>\n",
       "      <th>RM</th>\n",
       "      <th>RS</th>\n",
       "      <th>RW</th>\n",
       "      <th>RWB</th>\n",
       "      <th>ST</th>\n",
       "      <th>best_position_rating</th>\n",
       "      <th>best_positions</th>\n",
       "      <th>preferred_positions</th>\n",
       "      <th>overlap_with_worst</th>\n",
       "      <th>age_adjusted_overall</th>\n",
       "    </tr>\n",
       "    <tr>\n",
       "      <th>index</th>\n",
       "      <th></th>\n",
       "      <th></th>\n",
       "      <th></th>\n",
       "      <th></th>\n",
       "      <th></th>\n",
       "      <th></th>\n",
       "      <th></th>\n",
       "      <th></th>\n",
       "      <th></th>\n",
       "      <th></th>\n",
       "      <th></th>\n",
       "      <th></th>\n",
       "      <th></th>\n",
       "      <th></th>\n",
       "      <th></th>\n",
       "      <th></th>\n",
       "      <th></th>\n",
       "      <th></th>\n",
       "      <th></th>\n",
       "      <th></th>\n",
       "      <th></th>\n",
       "    </tr>\n",
       "  </thead>\n",
       "  <tbody>\n",
       "    <tr>\n",
       "      <th>0</th>\n",
       "      <td>Cristiano Ronaldo</td>\n",
       "      <td>32</td>\n",
       "      <td>https://cdn.sofifa.org/48/18/players/20801.png</td>\n",
       "      <td>Portugal</td>\n",
       "      <td>https://cdn.sofifa.org/flags/38.png</td>\n",
       "      <td>94</td>\n",
       "      <td>94</td>\n",
       "      <td>Real Madrid CF</td>\n",
       "      <td>https://cdn.sofifa.org/24/18/teams/243.png</td>\n",
       "      <td>95500000.0</td>\n",
       "      <td>...</td>\n",
       "      <td>89.0</td>\n",
       "      <td>92.0</td>\n",
       "      <td>91.0</td>\n",
       "      <td>66.0</td>\n",
       "      <td>92.0</td>\n",
       "      <td>92.0</td>\n",
       "      <td>['CF', 'LF', 'LS', 'LW', 'RF', 'RS', 'RW', 'ST']</td>\n",
       "      <td>['ST', 'LW']</td>\n",
       "      <td>0.0</td>\n",
       "      <td>91.892183</td>\n",
       "    </tr>\n",
       "    <tr>\n",
       "      <th>1</th>\n",
       "      <td>L. Messi</td>\n",
       "      <td>30</td>\n",
       "      <td>https://cdn.sofifa.org/48/18/players/158023.png</td>\n",
       "      <td>Argentina</td>\n",
       "      <td>https://cdn.sofifa.org/flags/52.png</td>\n",
       "      <td>93</td>\n",
       "      <td>93</td>\n",
       "      <td>FC Barcelona</td>\n",
       "      <td>https://cdn.sofifa.org/24/18/teams/241.png</td>\n",
       "      <td>105000000.0</td>\n",
       "      <td>...</td>\n",
       "      <td>90.0</td>\n",
       "      <td>88.0</td>\n",
       "      <td>91.0</td>\n",
       "      <td>62.0</td>\n",
       "      <td>88.0</td>\n",
       "      <td>92.0</td>\n",
       "      <td>['CAM', 'CF', 'LAM', 'LF', 'LW', 'RAM', 'RF', ...</td>\n",
       "      <td>['RW']</td>\n",
       "      <td>0.0</td>\n",
       "      <td>90.457849</td>\n",
       "    </tr>\n",
       "    <tr>\n",
       "      <th>2</th>\n",
       "      <td>Neymar</td>\n",
       "      <td>25</td>\n",
       "      <td>https://cdn.sofifa.org/48/18/players/190871.png</td>\n",
       "      <td>Brazil</td>\n",
       "      <td>https://cdn.sofifa.org/flags/54.png</td>\n",
       "      <td>92</td>\n",
       "      <td>94</td>\n",
       "      <td>Paris Saint-Germain</td>\n",
       "      <td>https://cdn.sofifa.org/24/18/teams/73.png</td>\n",
       "      <td>123000000.0</td>\n",
       "      <td>...</td>\n",
       "      <td>87.0</td>\n",
       "      <td>84.0</td>\n",
       "      <td>89.0</td>\n",
       "      <td>64.0</td>\n",
       "      <td>84.0</td>\n",
       "      <td>89.0</td>\n",
       "      <td>['CAM', 'CF', 'LAM', 'LF', 'LW', 'RAM', 'RF', ...</td>\n",
       "      <td>['LW']</td>\n",
       "      <td>0.0</td>\n",
       "      <td>92.000000</td>\n",
       "    </tr>\n",
       "    <tr>\n",
       "      <th>3</th>\n",
       "      <td>L. Suárez</td>\n",
       "      <td>30</td>\n",
       "      <td>https://cdn.sofifa.org/48/18/players/176580.png</td>\n",
       "      <td>Uruguay</td>\n",
       "      <td>https://cdn.sofifa.org/flags/60.png</td>\n",
       "      <td>92</td>\n",
       "      <td>92</td>\n",
       "      <td>FC Barcelona</td>\n",
       "      <td>https://cdn.sofifa.org/24/18/teams/241.png</td>\n",
       "      <td>97000000.0</td>\n",
       "      <td>...</td>\n",
       "      <td>85.0</td>\n",
       "      <td>88.0</td>\n",
       "      <td>87.0</td>\n",
       "      <td>68.0</td>\n",
       "      <td>88.0</td>\n",
       "      <td>88.0</td>\n",
       "      <td>['CAM', 'CF', 'LAM', 'LF', 'LS', 'LW', 'RAM', ...</td>\n",
       "      <td>['ST']</td>\n",
       "      <td>0.0</td>\n",
       "      <td>89.485184</td>\n",
       "    </tr>\n",
       "    <tr>\n",
       "      <th>4</th>\n",
       "      <td>M. Neuer</td>\n",
       "      <td>31</td>\n",
       "      <td>https://cdn.sofifa.org/48/18/players/167495.png</td>\n",
       "      <td>Germany</td>\n",
       "      <td>https://cdn.sofifa.org/flags/21.png</td>\n",
       "      <td>92</td>\n",
       "      <td>92</td>\n",
       "      <td>FC Bayern Munich</td>\n",
       "      <td>https://cdn.sofifa.org/24/18/teams/21.png</td>\n",
       "      <td>61000000.0</td>\n",
       "      <td>...</td>\n",
       "      <td>NaN</td>\n",
       "      <td>NaN</td>\n",
       "      <td>NaN</td>\n",
       "      <td>NaN</td>\n",
       "      <td>NaN</td>\n",
       "      <td>NaN</td>\n",
       "      <td>['GK']</td>\n",
       "      <td>['GK']</td>\n",
       "      <td>1.0</td>\n",
       "      <td>89.550407</td>\n",
       "    </tr>\n",
       "  </tbody>\n",
       "</table>\n",
       "<p>5 rows × 79 columns</p>\n",
       "</div>"
      ],
      "text/plain": [
       "                    Name  Age  \\\n",
       "index                           \n",
       "0      Cristiano Ronaldo   32   \n",
       "1               L. Messi   30   \n",
       "2                 Neymar   25   \n",
       "3              L. Suárez   30   \n",
       "4               M. Neuer   31   \n",
       "\n",
       "                                                 Photo Nationality  \\\n",
       "index                                                                \n",
       "0       https://cdn.sofifa.org/48/18/players/20801.png    Portugal   \n",
       "1      https://cdn.sofifa.org/48/18/players/158023.png   Argentina   \n",
       "2      https://cdn.sofifa.org/48/18/players/190871.png      Brazil   \n",
       "3      https://cdn.sofifa.org/48/18/players/176580.png     Uruguay   \n",
       "4      https://cdn.sofifa.org/48/18/players/167495.png     Germany   \n",
       "\n",
       "                                      Flag  Overall  Potential  \\\n",
       "index                                                            \n",
       "0      https://cdn.sofifa.org/flags/38.png       94         94   \n",
       "1      https://cdn.sofifa.org/flags/52.png       93         93   \n",
       "2      https://cdn.sofifa.org/flags/54.png       92         94   \n",
       "3      https://cdn.sofifa.org/flags/60.png       92         92   \n",
       "4      https://cdn.sofifa.org/flags/21.png       92         92   \n",
       "\n",
       "                      Club                                   Club Logo  \\\n",
       "index                                                                    \n",
       "0           Real Madrid CF  https://cdn.sofifa.org/24/18/teams/243.png   \n",
       "1             FC Barcelona  https://cdn.sofifa.org/24/18/teams/241.png   \n",
       "2      Paris Saint-Germain   https://cdn.sofifa.org/24/18/teams/73.png   \n",
       "3             FC Barcelona  https://cdn.sofifa.org/24/18/teams/241.png   \n",
       "4         FC Bayern Munich   https://cdn.sofifa.org/24/18/teams/21.png   \n",
       "\n",
       "             Value         ...             RM    RS    RW   RWB    ST  \\\n",
       "index                      ...                                          \n",
       "0       95500000.0         ...           89.0  92.0  91.0  66.0  92.0   \n",
       "1      105000000.0         ...           90.0  88.0  91.0  62.0  88.0   \n",
       "2      123000000.0         ...           87.0  84.0  89.0  64.0  84.0   \n",
       "3       97000000.0         ...           85.0  88.0  87.0  68.0  88.0   \n",
       "4       61000000.0         ...            NaN   NaN   NaN   NaN   NaN   \n",
       "\n",
       "      best_position_rating                                     best_positions  \\\n",
       "index                                                                           \n",
       "0                     92.0   ['CF', 'LF', 'LS', 'LW', 'RF', 'RS', 'RW', 'ST']   \n",
       "1                     92.0  ['CAM', 'CF', 'LAM', 'LF', 'LW', 'RAM', 'RF', ...   \n",
       "2                     89.0  ['CAM', 'CF', 'LAM', 'LF', 'LW', 'RAM', 'RF', ...   \n",
       "3                     88.0  ['CAM', 'CF', 'LAM', 'LF', 'LS', 'LW', 'RAM', ...   \n",
       "4                      NaN                                             ['GK']   \n",
       "\n",
       "      preferred_positions overlap_with_worst age_adjusted_overall  \n",
       "index                                                              \n",
       "0            ['ST', 'LW']                0.0            91.892183  \n",
       "1                  ['RW']                0.0            90.457849  \n",
       "2                  ['LW']                0.0            92.000000  \n",
       "3                  ['ST']                0.0            89.485184  \n",
       "4                  ['GK']                1.0            89.550407  \n",
       "\n",
       "[5 rows x 79 columns]"
      ]
     },
     "execution_count": 63,
     "metadata": {},
     "output_type": "execute_result"
    }
   ],
   "source": [
    "players = pd.read_csv(\"CompleteDataset_replacements.csv\",index_col='index')\n",
    "players.head()"
   ]
  },
  {
   "cell_type": "code",
   "execution_count": 64,
   "metadata": {},
   "outputs": [
    {
     "data": {
      "text/plain": [
       "<matplotlib.axes._subplots.AxesSubplot at 0x18e290940>"
      ]
     },
     "execution_count": 64,
     "metadata": {},
     "output_type": "execute_result"
    },
    {
     "data": {
      "image/png": "[encoded data removed]",
      "text/plain": [
       "<matplotlib.figure.Figure at 0x18e290390>"
      ]
     },
     "metadata": {},
     "output_type": "display_data"
    }
   ],
   "source": [
    "# first, find null values\n",
    "position_list = ['CAM', 'CB', 'CDM', 'CF', 'CM', 'LAM', 'LB', 'LCB',\n",
    "           'LCM', 'LDM', 'LF', 'LM', 'LS', 'LW', 'LWB', \n",
    "           'RAM', 'RB', 'RCB', 'RCM', 'RDM', 'RF', 'RM', \n",
    "            'RS', 'RW', 'RWB', 'ST']\n",
    "\n",
    "sns.heatmap(players[position_list].isnull(),\n",
    "            yticklabels=False,cbar=False,cmap='viridis')"
   ]
  },
  {
   "cell_type": "code",
   "execution_count": 65,
   "metadata": {},
   "outputs": [
    {
     "data": {
      "text/plain": [
       "<matplotlib.axes._subplots.AxesSubplot at 0x18e2a9eb8>"
      ]
     },
     "execution_count": 65,
     "metadata": {},
     "output_type": "execute_result"
    },
    {
     "data": {
      "image/png": "[encoded data removed]",
      "text/plain": [
       "<matplotlib.figure.Figure at 0x18d771a58>"
      ]
     },
     "metadata": {},
     "output_type": "display_data"
    }
   ],
   "source": [
    "# goalkeepers do not have ratings for any of the positions\n",
    "# I know this from a previous analysis\n",
    "# we need to remove them,and make sure that there are no other null values\n",
    "# this will allow us to make histograms\n",
    "def filterGoalkeepers(entry):\n",
    "    if 'GK' in entry['best_positions']:\n",
    "        return False\n",
    "    else:\n",
    "        return True\n",
    "    \n",
    "not_goalkeepers = players[players.apply(filterGoalkeepers,axis=1)][position_list]\n",
    "\n",
    "sns.heatmap(not_goalkeepers.isnull(),\n",
    "            yticklabels=False,cbar=False,cmap='viridis')\n",
    "# apparently all players are rated on all positions,except for goalkeepers"
   ]
  },
  {
   "cell_type": "code",
   "execution_count": 66,
   "metadata": {},
   "outputs": [
    {
     "data": {
      "text/plain": [
       "<matplotlib.axes._subplots.AxesSubplot at 0x18dcdfb38>"
      ]
     },
     "execution_count": 66,
     "metadata": {},
     "output_type": "execute_result"
    },
    {
     "data": {
      "image/png": "[encoded data removed]",
      "text/plain": [
       "<matplotlib.figure.Figure at 0x18e6f1908>"
      ]
     },
     "metadata": {},
     "output_type": "display_data"
    }
   ],
   "source": [
    "not_goalkeepers.loc[552].hist(bins=10)\n",
    "not_goalkeepers.loc[128].hist(bins=10)\n",
    "not_goalkeepers.loc[2087].hist(bins=10)\n",
    "not_goalkeepers.loc[1452].hist(bins=10)\n",
    "# I don't see any trends arising here"
   ]
  },
  {
   "cell_type": "code",
   "execution_count": 67,
   "metadata": {},
   "outputs": [
    {
     "data": {
      "text/plain": [
       "<matplotlib.axes._subplots.AxesSubplot at 0x18ed941d0>"
      ]
     },
     "execution_count": 67,
     "metadata": {},
     "output_type": "execute_result"
    },
    {
     "data": {
      "image/png": "[encoded data removed]",
      "text/plain": [
       "<matplotlib.figure.Figure at 0x18d798080>"
      ]
     },
     "metadata": {},
     "output_type": "display_data"
    }
   ],
   "source": [
    "sns.distplot(not_goalkeepers.values.flatten(),hist=True)\n",
    "# we don't see the same trend in the aggregate\n",
    "# I think this is because players have different maximum skill ratings\n",
    "# # so I need to normalize maximums and minimums"
   ]
  },
  {
   "cell_type": "code",
   "execution_count": 68,
   "metadata": {},
   "outputs": [
    {
     "data": {
      "text/plain": [
       "<matplotlib.axes._subplots.AxesSubplot at 0x18d31d978>"
      ]
     },
     "execution_count": 68,
     "metadata": {},
     "output_type": "execute_result"
    },
    {
     "data": {
      "image/png": "[encoded data removed]",
      "text/plain": [
       "<matplotlib.figure.Figure at 0x18d31df98>"
      ]
     },
     "metadata": {},
     "output_type": "display_data"
    }
   ],
   "source": [
    "# let's see how consistent this trend is by aggregating across players\n",
    "# first we need to normalize the min  for each player\n",
    "def setFloor(entry):\n",
    "    return entry - entry.min()\n",
    "\n",
    "floored = not_goalkeepers.apply(setFloor,axis=1)\n",
    "sns.distplot(floored.values.flatten(),hist=True)"
   ]
  },
  {
   "cell_type": "code",
   "execution_count": 69,
   "metadata": {},
   "outputs": [],
   "source": [
    "# now we need to normalize the max for each player\n",
    "# set equal to 100\n",
    "\n",
    "def findCoefficient(entry):\n",
    "    return 100/entry.max()\n",
    "\n",
    "floored['coefficients'] = floored.apply(findCoefficient,axis=1)"
   ]
  },
  {
   "cell_type": "code",
   "execution_count": 70,
   "metadata": {},
   "outputs": [],
   "source": [
    "def multiplyCoefficient(entry):\n",
    "    return entry[position_list] * entry['coefficients']\n",
    "\n",
    "normalized = floored.apply(multiplyCoefficient,axis=1)"
   ]
  },
  {
   "cell_type": "code",
   "execution_count": 71,
   "metadata": {},
   "outputs": [
    {
     "data": {
      "text/plain": [
       "<matplotlib.axes._subplots.AxesSubplot at 0x1913dfcc0>"
      ]
     },
     "execution_count": 71,
     "metadata": {},
     "output_type": "execute_result"
    },
    {
     "data": {
      "image/png": "[encoded data removed]",
      "text/plain": [
       "<matplotlib.figure.Figure at 0x18ed94908>"
      ]
     },
     "metadata": {},
     "output_type": "display_data"
    }
   ],
   "source": [
    "sns.distplot(normalized.values.flatten(),hist=True,bins=10)\n",
    "# this does not look right\n",
    "# I see that by setting a floor and a ceiling, \n",
    "# I artificially create a higher density of values at each end\n",
    "# I am going to try a new technique"
   ]
  },
  {
   "cell_type": "markdown",
   "metadata": {},
   "source": [
    "# second attempt: using standardization for normal distributions "
   ]
  },
  {
   "cell_type": "code",
   "execution_count": 72,
   "metadata": {
    "scrolled": true
   },
   "outputs": [],
   "source": [
    "# I'm going to try normalizing as you would a normal distribution\n",
    "# I'm going to apply this math to every row individually\n",
    "\n",
    "# subtract the mean\n",
    "def standardize(entry):\n",
    "    mod = entry - entry.mean()\n",
    "    return mod/entry.std()\n",
    "\n",
    "standardized = not_goalkeepers.apply(standardize,axis=1)"
   ]
  },
  {
   "cell_type": "code",
   "execution_count": 73,
   "metadata": {},
   "outputs": [
    {
     "data": {
      "text/plain": [
       "<matplotlib.axes._subplots.AxesSubplot at 0x18de6a550>"
      ]
     },
     "execution_count": 73,
     "metadata": {},
     "output_type": "execute_result"
    },
    {
     "data": {
      "image/png": "[encoded data removed]",
      "text/plain": [
       "<matplotlib.figure.Figure at 0x18de6ab00>"
      ]
     },
     "metadata": {},
     "output_type": "display_data"
    }
   ],
   "source": [
    "sns.distplot(standardized.values.flatten(),hist=True,bins=10)\n",
    "# this looks like the most diplomatic normalization for a random distribution"
   ]
  },
  {
   "cell_type": "markdown",
   "metadata": {},
   "source": [
    "# conclusion\n",
    "My goal was to describe what the distribution of a players ratings looks like over all this positions. I applied the standardization function use for normal distributions. I don't know whether this is correct.this still needs to be validated.\n",
    "\n",
    "The final distribution is bimodal. I don't know what conclusions to draw from this without further study.\n",
    "\n",
    "### further study\n",
    "it is common to interpret bimodal distributions as showing that in the sample set there are in fact 2 distinct normal distributions that have a little overlap. 1 distribution is skewed left,the other is skewed right. These would represent players who are either specialists ( skewed left), or generalists (skewed right). A specialist is a player who is good only in a few positions,but bad in all the rest. A generalist is a player who is good at many positions. I don't know if this is true, but it would be interesting to investigate. \n",
    "* somehow dissect the players so that you have clustered the 2 normal distributions present.\n",
    "* compare these clusters to see if there are any distinguishing characteristics.\n",
    "* distilling these characteristics may allow us to predict more accurately the type of distribution a players ratings falls into, whether they are generalists or specialists."
   ]
  },
  {
   "cell_type": "code",
   "execution_count": null,
   "metadata": {},
   "outputs": [],
   "source": []
  }
 ],
 "metadata": {
  "kernelspec": {
   "display_name": "Python 3",
   "language": "python",
   "name": "python3"
  },
  "language_info": {
   "codemirror_mode": {
    "name": "ipython",
    "version": 3
   },
   "file_extension": ".py",
   "mimetype": "text/x-python",
   "name": "python",
   "nbconvert_exporter": "python",
   "pygments_lexer": "ipython3",
   "version": "3.6.2"
  }
 },
 "nbformat": 4,
 "nbformat_minor": 2
}
